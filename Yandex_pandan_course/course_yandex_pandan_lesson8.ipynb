{
 "cells": [
  {
   "cell_type": "code",
   "execution_count": 1,
   "id": "a6284ef2",
   "metadata": {},
   "outputs": [],
   "source": [
    "import pandas as pd"
   ]
  },
  {
   "cell_type": "code",
   "execution_count": 2,
   "id": "30536c74",
   "metadata": {},
   "outputs": [],
   "source": [
    "df = pd.read_csv('disney_title.csv')"
   ]
  },
  {
   "cell_type": "code",
   "execution_count": 4,
   "id": "18590914",
   "metadata": {},
   "outputs": [
    {
     "data": {
      "text/html": [
       "<div>\n",
       "<style scoped>\n",
       "    .dataframe tbody tr th:only-of-type {\n",
       "        vertical-align: middle;\n",
       "    }\n",
       "\n",
       "    .dataframe tbody tr th {\n",
       "        vertical-align: top;\n",
       "    }\n",
       "\n",
       "    .dataframe thead th {\n",
       "        text-align: right;\n",
       "    }\n",
       "</style>\n",
       "<table border=\"1\" class=\"dataframe\">\n",
       "  <thead>\n",
       "    <tr style=\"text-align: right;\">\n",
       "      <th></th>\n",
       "      <th>type</th>\n",
       "      <th>title</th>\n",
       "      <th>director</th>\n",
       "      <th>cast</th>\n",
       "      <th>country</th>\n",
       "      <th>release_year</th>\n",
       "      <th>rating</th>\n",
       "      <th>duration</th>\n",
       "      <th>listed_in</th>\n",
       "      <th>description</th>\n",
       "      <th>Date</th>\n",
       "    </tr>\n",
       "  </thead>\n",
       "  <tbody>\n",
       "    <tr>\n",
       "      <th>0</th>\n",
       "      <td>Movie</td>\n",
       "      <td>Duck the Halls: A Mickey Mouse Christmas Special</td>\n",
       "      <td>Alonso Ramirez Ramos, Dave Wasson</td>\n",
       "      <td>Chris Diamantopoulos, Tony Anselmo, Tress MacN...</td>\n",
       "      <td>NaN</td>\n",
       "      <td>2016</td>\n",
       "      <td>TV-G</td>\n",
       "      <td>23 min</td>\n",
       "      <td>Animation, Family</td>\n",
       "      <td>Join Mickey and the gang as they duck the halls!</td>\n",
       "      <td>2021-11-26</td>\n",
       "    </tr>\n",
       "    <tr>\n",
       "      <th>1</th>\n",
       "      <td>Movie</td>\n",
       "      <td>Ernest Saves Christmas</td>\n",
       "      <td>John Cherry</td>\n",
       "      <td>Jim Varney, Noelle Parker, Douglas Seale</td>\n",
       "      <td>NaN</td>\n",
       "      <td>1988</td>\n",
       "      <td>PG</td>\n",
       "      <td>91 min</td>\n",
       "      <td>Comedy</td>\n",
       "      <td>Santa Claus passes his magic bag to a new St. ...</td>\n",
       "      <td>2021-11-26</td>\n",
       "    </tr>\n",
       "    <tr>\n",
       "      <th>2</th>\n",
       "      <td>Movie</td>\n",
       "      <td>Ice Age: A Mammoth Christmas</td>\n",
       "      <td>Karen Disher</td>\n",
       "      <td>Raymond Albert Romano, John Leguizamo, Denis L...</td>\n",
       "      <td>United States</td>\n",
       "      <td>2011</td>\n",
       "      <td>TV-G</td>\n",
       "      <td>23 min</td>\n",
       "      <td>Animation, Comedy, Family</td>\n",
       "      <td>Sid the Sloth is on Santa's naughty list.</td>\n",
       "      <td>2021-11-26</td>\n",
       "    </tr>\n",
       "    <tr>\n",
       "      <th>3</th>\n",
       "      <td>Movie</td>\n",
       "      <td>The Queen Family Singalong</td>\n",
       "      <td>Hamish Hamilton</td>\n",
       "      <td>Darren Criss, Adam Lambert, Derek Hough, Alexa...</td>\n",
       "      <td>NaN</td>\n",
       "      <td>2021</td>\n",
       "      <td>TV-PG</td>\n",
       "      <td>41 min</td>\n",
       "      <td>Musical</td>\n",
       "      <td>This is real life, not just fantasy!</td>\n",
       "      <td>2021-11-26</td>\n",
       "    </tr>\n",
       "    <tr>\n",
       "      <th>4</th>\n",
       "      <td>TV Show</td>\n",
       "      <td>The Beatles: Get Back</td>\n",
       "      <td>NaN</td>\n",
       "      <td>John Lennon, Paul McCartney, George Harrison, ...</td>\n",
       "      <td>NaN</td>\n",
       "      <td>2021</td>\n",
       "      <td>NaN</td>\n",
       "      <td>1 Season</td>\n",
       "      <td>Docuseries, Historical, Music</td>\n",
       "      <td>A three-part documentary from Peter Jackson ca...</td>\n",
       "      <td>2021-11-25</td>\n",
       "    </tr>\n",
       "  </tbody>\n",
       "</table>\n",
       "</div>"
      ],
      "text/plain": [
       "      type                                             title  \\\n",
       "0    Movie  Duck the Halls: A Mickey Mouse Christmas Special   \n",
       "1    Movie                            Ernest Saves Christmas   \n",
       "2    Movie                      Ice Age: A Mammoth Christmas   \n",
       "3    Movie                        The Queen Family Singalong   \n",
       "4  TV Show                             The Beatles: Get Back   \n",
       "\n",
       "                            director  \\\n",
       "0  Alonso Ramirez Ramos, Dave Wasson   \n",
       "1                        John Cherry   \n",
       "2                       Karen Disher   \n",
       "3                    Hamish Hamilton   \n",
       "4                                NaN   \n",
       "\n",
       "                                                cast        country  \\\n",
       "0  Chris Diamantopoulos, Tony Anselmo, Tress MacN...            NaN   \n",
       "1           Jim Varney, Noelle Parker, Douglas Seale            NaN   \n",
       "2  Raymond Albert Romano, John Leguizamo, Denis L...  United States   \n",
       "3  Darren Criss, Adam Lambert, Derek Hough, Alexa...            NaN   \n",
       "4  John Lennon, Paul McCartney, George Harrison, ...            NaN   \n",
       "\n",
       "   release_year rating  duration                      listed_in  \\\n",
       "0          2016   TV-G    23 min              Animation, Family   \n",
       "1          1988     PG    91 min                         Comedy   \n",
       "2          2011   TV-G    23 min      Animation, Comedy, Family   \n",
       "3          2021  TV-PG    41 min                        Musical   \n",
       "4          2021    NaN  1 Season  Docuseries, Historical, Music   \n",
       "\n",
       "                                         description        Date  \n",
       "0   Join Mickey and the gang as they duck the halls!  2021-11-26  \n",
       "1  Santa Claus passes his magic bag to a new St. ...  2021-11-26  \n",
       "2          Sid the Sloth is on Santa's naughty list.  2021-11-26  \n",
       "3               This is real life, not just fantasy!  2021-11-26  \n",
       "4  A three-part documentary from Peter Jackson ca...  2021-11-25  "
      ]
     },
     "execution_count": 4,
     "metadata": {},
     "output_type": "execute_result"
    }
   ],
   "source": [
    "df.head()"
   ]
  },
  {
   "cell_type": "code",
   "execution_count": 7,
   "id": "fd23b626",
   "metadata": {},
   "outputs": [
    {
     "name": "stdout",
     "output_type": "stream",
     "text": [
      "<class 'pandas.core.frame.DataFrame'>\n",
      "RangeIndex: 1450 entries, 0 to 1449\n",
      "Data columns (total 11 columns):\n",
      " #   Column        Non-Null Count  Dtype \n",
      "---  ------        --------------  ----- \n",
      " 0   type          1450 non-null   object\n",
      " 1   title         1450 non-null   object\n",
      " 2   director      977 non-null    object\n",
      " 3   cast          1260 non-null   object\n",
      " 4   country       1231 non-null   object\n",
      " 5   release_year  1450 non-null   int64 \n",
      " 6   rating        1447 non-null   object\n",
      " 7   duration      1450 non-null   object\n",
      " 8   listed_in     1450 non-null   object\n",
      " 9   description   1450 non-null   object\n",
      " 10  Date          1447 non-null   object\n",
      "dtypes: int64(1), object(10)\n",
      "memory usage: 124.7+ KB\n",
      "None\n"
     ]
    }
   ],
   "source": [
    "print(df.info())"
   ]
  },
  {
   "cell_type": "code",
   "execution_count": 10,
   "id": "52de1af1",
   "metadata": {},
   "outputs": [],
   "source": [
    "df['Date'] = pd.to_datetime(df['Date'])"
   ]
  },
  {
   "cell_type": "code",
   "execution_count": 11,
   "id": "d147b157",
   "metadata": {},
   "outputs": [
    {
     "name": "stdout",
     "output_type": "stream",
     "text": [
      "<class 'pandas.core.frame.DataFrame'>\n",
      "RangeIndex: 1450 entries, 0 to 1449\n",
      "Data columns (total 11 columns):\n",
      " #   Column        Non-Null Count  Dtype         \n",
      "---  ------        --------------  -----         \n",
      " 0   type          1450 non-null   object        \n",
      " 1   title         1450 non-null   object        \n",
      " 2   director      977 non-null    object        \n",
      " 3   cast          1260 non-null   object        \n",
      " 4   country       1231 non-null   object        \n",
      " 5   release_year  1450 non-null   int64         \n",
      " 6   rating        1447 non-null   object        \n",
      " 7   duration      1450 non-null   object        \n",
      " 8   listed_in     1450 non-null   object        \n",
      " 9   description   1450 non-null   object        \n",
      " 10  Date          1447 non-null   datetime64[ns]\n",
      "dtypes: datetime64[ns](1), int64(1), object(9)\n",
      "memory usage: 124.7+ KB\n",
      "None\n"
     ]
    }
   ],
   "source": [
    "print(df.info())"
   ]
  },
  {
   "cell_type": "code",
   "execution_count": 12,
   "id": "a8cc5315",
   "metadata": {},
   "outputs": [
    {
     "name": "stdout",
     "output_type": "stream",
     "text": [
      "datetime64[ns]\n"
     ]
    }
   ],
   "source": [
    "print(df['Date'].dtype)"
   ]
  },
  {
   "cell_type": "code",
   "execution_count": 13,
   "id": "8c1e7976",
   "metadata": {},
   "outputs": [
    {
     "data": {
      "text/html": [
       "<div>\n",
       "<style scoped>\n",
       "    .dataframe tbody tr th:only-of-type {\n",
       "        vertical-align: middle;\n",
       "    }\n",
       "\n",
       "    .dataframe tbody tr th {\n",
       "        vertical-align: top;\n",
       "    }\n",
       "\n",
       "    .dataframe thead th {\n",
       "        text-align: right;\n",
       "    }\n",
       "</style>\n",
       "<table border=\"1\" class=\"dataframe\">\n",
       "  <thead>\n",
       "    <tr style=\"text-align: right;\">\n",
       "      <th></th>\n",
       "      <th>type</th>\n",
       "      <th>title</th>\n",
       "      <th>director</th>\n",
       "      <th>cast</th>\n",
       "      <th>country</th>\n",
       "      <th>release_year</th>\n",
       "      <th>rating</th>\n",
       "      <th>duration</th>\n",
       "      <th>listed_in</th>\n",
       "      <th>description</th>\n",
       "      <th>Date</th>\n",
       "    </tr>\n",
       "  </thead>\n",
       "  <tbody>\n",
       "    <tr>\n",
       "      <th>0</th>\n",
       "      <td>Movie</td>\n",
       "      <td>Duck the Halls: A Mickey Mouse Christmas Special</td>\n",
       "      <td>Alonso Ramirez Ramos, Dave Wasson</td>\n",
       "      <td>Chris Diamantopoulos, Tony Anselmo, Tress MacN...</td>\n",
       "      <td>NaN</td>\n",
       "      <td>2016</td>\n",
       "      <td>TV-G</td>\n",
       "      <td>23 min</td>\n",
       "      <td>Animation, Family</td>\n",
       "      <td>Join Mickey and the gang as they duck the halls!</td>\n",
       "      <td>2021-11-26</td>\n",
       "    </tr>\n",
       "    <tr>\n",
       "      <th>1</th>\n",
       "      <td>Movie</td>\n",
       "      <td>Ernest Saves Christmas</td>\n",
       "      <td>John Cherry</td>\n",
       "      <td>Jim Varney, Noelle Parker, Douglas Seale</td>\n",
       "      <td>NaN</td>\n",
       "      <td>1988</td>\n",
       "      <td>PG</td>\n",
       "      <td>91 min</td>\n",
       "      <td>Comedy</td>\n",
       "      <td>Santa Claus passes his magic bag to a new St. ...</td>\n",
       "      <td>2021-11-26</td>\n",
       "    </tr>\n",
       "    <tr>\n",
       "      <th>2</th>\n",
       "      <td>Movie</td>\n",
       "      <td>Ice Age: A Mammoth Christmas</td>\n",
       "      <td>Karen Disher</td>\n",
       "      <td>Raymond Albert Romano, John Leguizamo, Denis L...</td>\n",
       "      <td>United States</td>\n",
       "      <td>2011</td>\n",
       "      <td>TV-G</td>\n",
       "      <td>23 min</td>\n",
       "      <td>Animation, Comedy, Family</td>\n",
       "      <td>Sid the Sloth is on Santa's naughty list.</td>\n",
       "      <td>2021-11-26</td>\n",
       "    </tr>\n",
       "    <tr>\n",
       "      <th>3</th>\n",
       "      <td>Movie</td>\n",
       "      <td>The Queen Family Singalong</td>\n",
       "      <td>Hamish Hamilton</td>\n",
       "      <td>Darren Criss, Adam Lambert, Derek Hough, Alexa...</td>\n",
       "      <td>NaN</td>\n",
       "      <td>2021</td>\n",
       "      <td>TV-PG</td>\n",
       "      <td>41 min</td>\n",
       "      <td>Musical</td>\n",
       "      <td>This is real life, not just fantasy!</td>\n",
       "      <td>2021-11-26</td>\n",
       "    </tr>\n",
       "    <tr>\n",
       "      <th>4</th>\n",
       "      <td>TV Show</td>\n",
       "      <td>The Beatles: Get Back</td>\n",
       "      <td>NaN</td>\n",
       "      <td>John Lennon, Paul McCartney, George Harrison, ...</td>\n",
       "      <td>NaN</td>\n",
       "      <td>2021</td>\n",
       "      <td>NaN</td>\n",
       "      <td>1 Season</td>\n",
       "      <td>Docuseries, Historical, Music</td>\n",
       "      <td>A three-part documentary from Peter Jackson ca...</td>\n",
       "      <td>2021-11-25</td>\n",
       "    </tr>\n",
       "  </tbody>\n",
       "</table>\n",
       "</div>"
      ],
      "text/plain": [
       "      type                                             title  \\\n",
       "0    Movie  Duck the Halls: A Mickey Mouse Christmas Special   \n",
       "1    Movie                            Ernest Saves Christmas   \n",
       "2    Movie                      Ice Age: A Mammoth Christmas   \n",
       "3    Movie                        The Queen Family Singalong   \n",
       "4  TV Show                             The Beatles: Get Back   \n",
       "\n",
       "                            director  \\\n",
       "0  Alonso Ramirez Ramos, Dave Wasson   \n",
       "1                        John Cherry   \n",
       "2                       Karen Disher   \n",
       "3                    Hamish Hamilton   \n",
       "4                                NaN   \n",
       "\n",
       "                                                cast        country  \\\n",
       "0  Chris Diamantopoulos, Tony Anselmo, Tress MacN...            NaN   \n",
       "1           Jim Varney, Noelle Parker, Douglas Seale            NaN   \n",
       "2  Raymond Albert Romano, John Leguizamo, Denis L...  United States   \n",
       "3  Darren Criss, Adam Lambert, Derek Hough, Alexa...            NaN   \n",
       "4  John Lennon, Paul McCartney, George Harrison, ...            NaN   \n",
       "\n",
       "   release_year rating  duration                      listed_in  \\\n",
       "0          2016   TV-G    23 min              Animation, Family   \n",
       "1          1988     PG    91 min                         Comedy   \n",
       "2          2011   TV-G    23 min      Animation, Comedy, Family   \n",
       "3          2021  TV-PG    41 min                        Musical   \n",
       "4          2021    NaN  1 Season  Docuseries, Historical, Music   \n",
       "\n",
       "                                         description       Date  \n",
       "0   Join Mickey and the gang as they duck the halls! 2021-11-26  \n",
       "1  Santa Claus passes his magic bag to a new St. ... 2021-11-26  \n",
       "2          Sid the Sloth is on Santa's naughty list. 2021-11-26  \n",
       "3               This is real life, not just fantasy! 2021-11-26  \n",
       "4  A three-part documentary from Peter Jackson ca... 2021-11-25  "
      ]
     },
     "execution_count": 13,
     "metadata": {},
     "output_type": "execute_result"
    }
   ],
   "source": [
    "df.head()"
   ]
  },
  {
   "cell_type": "code",
   "execution_count": 59,
   "id": "210f079c",
   "metadata": {},
   "outputs": [],
   "source": [
    "filtered_df = df.loc[(df['Date'] >= '2020-01-01') & (df['Date'] <= '2021-01-01')]"
   ]
  },
  {
   "cell_type": "code",
   "execution_count": 61,
   "id": "b15b525b",
   "metadata": {},
   "outputs": [
    {
     "data": {
      "text/plain": [
       "320     2021-01-01\n",
       "321     2021-01-01\n",
       "322     2021-01-01\n",
       "323     2021-01-01\n",
       "324     2021-01-01\n",
       "           ...    \n",
       "672     2020-01-01\n",
       "673     2020-01-01\n",
       "1447    2020-12-18\n",
       "1448    2020-09-18\n",
       "1449    2020-04-01\n",
       "Name: Date, Length: 357, dtype: object"
      ]
     },
     "execution_count": 61,
     "metadata": {},
     "output_type": "execute_result"
    }
   ],
   "source": [
    "filtered_df['Date']"
   ]
  },
  {
   "cell_type": "code",
   "execution_count": 57,
   "id": "d2ede84f",
   "metadata": {},
   "outputs": [],
   "source": [
    "titles = filtered_df['title'].head(10).values"
   ]
  },
  {
   "cell_type": "code",
   "execution_count": 58,
   "id": "8817c265",
   "metadata": {},
   "outputs": [
    {
     "name": "stdout",
     "output_type": "stream",
     "text": [
      "['700 Sharks' 'Big Sharks Rule' \"Dr. Seuss' Horton Hears a Who!\"\n",
      " 'Great Shark Chow Down' 'Mega Hammerhead' 'Burrow'\n",
      " 'Cosmos: Possible Worlds' 'Disney Gallery / Star Wars: The Mandalorian'\n",
      " \"Max Keeble's Big Move\" 'Soul']\n"
     ]
    }
   ],
   "source": [
    "print(titles)"
   ]
  },
  {
   "cell_type": "code",
   "execution_count": 49,
   "id": "bf749a29",
   "metadata": {},
   "outputs": [],
   "source": [
    "df_subset = df.drop('release_year',axis=1)"
   ]
  },
  {
   "cell_type": "code",
   "execution_count": 57,
   "id": "8b9f940d",
   "metadata": {},
   "outputs": [
    {
     "name": "stdout",
     "output_type": "stream",
     "text": [
      "['type', 'title', 'director', 'cast', 'country', 'rating', 'duration', 'listed_in', 'description', 'Date']\n"
     ]
    }
   ],
   "source": [
    "print(list(df_subset.columns.values))"
   ]
  },
  {
   "cell_type": "code",
   "execution_count": 52,
   "id": "1f1def0a",
   "metadata": {},
   "outputs": [],
   "source": [
    "df = df.rename(columns = {'type':'Type','title':'Title','director':'Director','cast':'Cast','country':'Country',\n",
    "                         'release_year':'Release_year','rating':'Rating','duration':'Duration','listed_in':'Listed_in',\n",
    "                         'description':'Description'})"
   ]
  },
  {
   "cell_type": "code",
   "execution_count": 56,
   "id": "e6a41511",
   "metadata": {},
   "outputs": [
    {
     "name": "stdout",
     "output_type": "stream",
     "text": [
      "['Type', 'Title', 'Director', 'Cast', 'Country', 'Release_year', 'Rating', 'Duration', 'Listed_in', 'Description', 'Date']\n"
     ]
    }
   ],
   "source": [
    "print(list(df.columns.values))"
   ]
  },
  {
   "cell_type": "code",
   "execution_count": 17,
   "id": "46d3927c",
   "metadata": {},
   "outputs": [],
   "source": [
    "new_listed_in = df['listed_in'].str.replace('&',',')"
   ]
  },
  {
   "cell_type": "code",
   "execution_count": 18,
   "id": "655c6824",
   "metadata": {},
   "outputs": [
    {
     "name": "stdout",
     "output_type": "stream",
     "text": [
      "['Action-Adventure, Family, Science Fiction'\n",
      " 'Action-Adventure, Comedy, Family' 'Biographical, Comedy, Drama'\n",
      " 'Buddy, Comedy, Coming of Age'\n",
      " 'Action-Adventure, Animals , Nature, Animation']\n"
     ]
    }
   ],
   "source": [
    "print(new_listed_in.tail().values)"
   ]
  },
  {
   "cell_type": "code",
   "execution_count": 71,
   "id": "9b5f658c",
   "metadata": {},
   "outputs": [
    {
     "name": "stdout",
     "output_type": "stream",
     "text": [
      "type              0\n",
      "title             0\n",
      "director        473\n",
      "cast            190\n",
      "country         219\n",
      "release_year      0\n",
      "rating            3\n",
      "duration          0\n",
      "listed_in         0\n",
      "description       0\n",
      "Date              3\n",
      "dtype: int64\n"
     ]
    }
   ],
   "source": [
    "print(df.isnull().sum())"
   ]
  },
  {
   "cell_type": "code",
   "execution_count": 19,
   "id": "b1aa4b46",
   "metadata": {},
   "outputs": [],
   "source": [
    "df_full = df.dropna()"
   ]
  },
  {
   "cell_type": "code",
   "execution_count": 74,
   "id": "02d48116",
   "metadata": {},
   "outputs": [
    {
     "name": "stdout",
     "output_type": "stream",
     "text": [
      "type            0\n",
      "title           0\n",
      "director        0\n",
      "cast            0\n",
      "country         0\n",
      "release_year    0\n",
      "rating          0\n",
      "duration        0\n",
      "listed_in       0\n",
      "description     0\n",
      "Date            0\n",
      "dtype: int64\n"
     ]
    }
   ],
   "source": [
    "print(df_full.isnull().sum())"
   ]
  },
  {
   "cell_type": "code",
   "execution_count": 50,
   "id": "1217bcf4",
   "metadata": {},
   "outputs": [],
   "source": [
    "df_null = df.isnull().sum()"
   ]
  },
  {
   "cell_type": "code",
   "execution_count": 51,
   "id": "105c1357",
   "metadata": {},
   "outputs": [
    {
     "data": {
      "text/plain": [
       "type              0\n",
       "title             0\n",
       "director        473\n",
       "cast            190\n",
       "country           0\n",
       "release_year      0\n",
       "rating            3\n",
       "duration          0\n",
       "listed_in         0\n",
       "description       0\n",
       "Date              3\n",
       "dtype: int64"
      ]
     },
     "execution_count": 51,
     "metadata": {},
     "output_type": "execute_result"
    }
   ],
   "source": [
    "df_null"
   ]
  },
  {
   "cell_type": "code",
   "execution_count": 41,
   "id": "a8dd95dc",
   "metadata": {},
   "outputs": [],
   "source": [
    "df_all = df.shape[0]"
   ]
  },
  {
   "cell_type": "code",
   "execution_count": 53,
   "id": "eb678184",
   "metadata": {},
   "outputs": [
    {
     "name": "stdout",
     "output_type": "stream",
     "text": [
      "type             0.00\n",
      "title            0.00\n",
      "director        32.62\n",
      "cast            13.10\n",
      "country          0.00\n",
      "release_year     0.00\n",
      "rating           0.21\n",
      "duration         0.00\n",
      "listed_in        0.00\n",
      "description      0.00\n",
      "Date             0.21\n",
      "dtype: float64\n"
     ]
    }
   ],
   "source": [
    "print(round(df_null/df_all*100,2))"
   ]
  },
  {
   "cell_type": "code",
   "execution_count": 4,
   "id": "7e487bb8",
   "metadata": {},
   "outputs": [],
   "source": [
    "df['country'] = df['country'].fillna('Country not specified')"
   ]
  },
  {
   "cell_type": "code",
   "execution_count": 55,
   "id": "74c5836d",
   "metadata": {},
   "outputs": [
    {
     "name": "stdout",
     "output_type": "stream",
     "text": [
      "['Country not specified' 'Country not specified' 'United States'\n",
      " 'Country not specified' 'Country not specified']\n"
     ]
    }
   ],
   "source": [
    "print(df['country'].dropna().head().values)"
   ]
  },
  {
   "cell_type": "code",
   "execution_count": null,
   "id": "be78af91",
   "metadata": {},
   "outputs": [],
   "source": []
  }
 ],
 "metadata": {
  "kernelspec": {
   "display_name": "Python 3 (ipykernel)",
   "language": "python",
   "name": "python3"
  },
  "language_info": {
   "codemirror_mode": {
    "name": "ipython",
    "version": 3
   },
   "file_extension": ".py",
   "mimetype": "text/x-python",
   "name": "python",
   "nbconvert_exporter": "python",
   "pygments_lexer": "ipython3",
   "version": "3.10.12"
  }
 },
 "nbformat": 4,
 "nbformat_minor": 5
}
