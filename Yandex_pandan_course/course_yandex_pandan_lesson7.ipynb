{
 "cells": [
  {
   "cell_type": "code",
   "execution_count": 82,
   "id": "6a4f1f5d",
   "metadata": {},
   "outputs": [],
   "source": [
    "import requests\n",
    "from bs4 import BeautifulSoup as BS\n",
    "import re"
   ]
  },
  {
   "cell_type": "code",
   "execution_count": 19,
   "id": "825f89b9",
   "metadata": {},
   "outputs": [],
   "source": [
    "path = 'kinopoisk.html'"
   ]
  },
  {
   "cell_type": "code",
   "execution_count": 20,
   "id": "c33c618c",
   "metadata": {},
   "outputs": [],
   "source": [
    "with open(path,'r',encoding='utf-8') as file:\n",
    "    html_content = file.read()"
   ]
  },
  {
   "cell_type": "code",
   "execution_count": 21,
   "id": "5edd73f5",
   "metadata": {},
   "outputs": [],
   "source": [
    "soup = BS(html_content)"
   ]
  },
  {
   "cell_type": "code",
   "execution_count": 22,
   "id": "95af6321",
   "metadata": {},
   "outputs": [],
   "source": [
    "title = soup.title"
   ]
  },
  {
   "cell_type": "code",
   "execution_count": 23,
   "id": "9ee66b27",
   "metadata": {},
   "outputs": [
    {
     "name": "stdout",
     "output_type": "stream",
     "text": [
      "Аватар: Путь воды (2022) — Кинопоиск\n"
     ]
    }
   ],
   "source": [
    "print(title.text)"
   ]
  },
  {
   "cell_type": "code",
   "execution_count": 41,
   "id": "de6f56eb",
   "metadata": {},
   "outputs": [],
   "source": [
    "title_film = soup.find(\"h1\", class_ = \"styles_title__65Zwx styles_root__l9kHe styles_root__5sqsd styles_rootInLight__juoEZ\")"
   ]
  },
  {
   "cell_type": "code",
   "execution_count": 42,
   "id": "fac1b3fb",
   "metadata": {},
   "outputs": [
    {
     "name": "stdout",
     "output_type": "stream",
     "text": [
      "Аватар: Путь воды (2022)\n"
     ]
    }
   ],
   "source": [
    "print(title_film.text)"
   ]
  },
  {
   "cell_type": "code",
   "execution_count": 105,
   "id": "678f1c54",
   "metadata": {},
   "outputs": [],
   "source": [
    "director = soup.find_all('a', class_ = 'styles_linkDark__7m929 styles_link__3QfAk')"
   ]
  },
  {
   "cell_type": "code",
   "execution_count": 107,
   "id": "b78cde05",
   "metadata": {},
   "outputs": [
    {
     "name": "stdout",
     "output_type": "stream",
     "text": [
      "[<a class=\"styles_linkDark__7m929 styles_link__3QfAk\" href=\"/lists/movies/year--2022/?b=films&amp;b=top\">2022</a>, <a class=\"styles_linkDark__7m929 styles_link__3QfAk\" data-tid=\"603f73a4\" href=\"/lists/movies/country--1/?b=films&amp;b=top\">США</a>, <a class=\"styles_linkDark__7m929 styles_link__3QfAk\" data-tid=\"603f73a4\" href=\"/lists/movies/genre--sci-fi/?b=films&amp;b=top\">фантастика</a>, <a class=\"styles_linkDark__7m929 styles_link__3QfAk\" data-tid=\"603f73a4\" href=\"/lists/movies/genre--fantasy/?b=films&amp;b=top\">фэнтези</a>, <a class=\"styles_linkDark__7m929 styles_link__3QfAk\" data-tid=\"603f73a4\" href=\"/lists/movies/genre--action/?b=films&amp;b=top\">боевик</a>, <a class=\"styles_linkDark__7m929 styles_link__3QfAk\" data-tid=\"603f73a4\" href=\"/lists/movies/genre--adventure/?b=films&amp;b=top\">приключения</a>, <a class=\"styles_linkDark__7m929 styles_link__3QfAk\" data-tid=\"603f73a4\" href=\"/name/27977/\">Джеймс Кэмерон</a>, <a class=\"styles_linkDark__7m929 styles_link__3QfAk\" data-tid=\"603f73a4\" href=\"/name/27977/\">Джеймс Кэмерон</a>, <a class=\"styles_linkDark__7m929 styles_link__3QfAk\" data-tid=\"603f73a4\" href=\"/name/79192/\">Рик Джаффа</a>, <a class=\"styles_linkDark__7m929 styles_link__3QfAk\" data-tid=\"603f73a4\" href=\"/name/79193/\">Аманда Сильвер</a>, <a class=\"styles_linkDark__7m929 styles_link__3QfAk\" href=\"/film/505898/cast/who_is/writer/\">...</a>, <a class=\"styles_linkDark__7m929 styles_link__3QfAk\" data-tid=\"603f73a4\" href=\"/name/27977/\">Джеймс Кэмерон</a>, <a class=\"styles_linkDark__7m929 styles_link__3QfAk\" data-tid=\"603f73a4\" href=\"/name/37064/\">Джон Ландау</a>, <a class=\"styles_linkDark__7m929 styles_link__3QfAk\" data-tid=\"603f73a4\" href=\"/name/2033201/\">Ричард Бэйнхэм</a>, <a class=\"styles_linkDark__7m929 styles_link__3QfAk\" href=\"/film/505898/cast/who_is/producer/\">...</a>, <a class=\"styles_linkDark__7m929 styles_link__3QfAk\" data-tid=\"603f73a4\" href=\"/name/408797/\">Рассел Карпентер</a>, <a class=\"styles_linkDark__7m929 styles_link__3QfAk\" data-tid=\"603f73a4\" href=\"/name/1345620/\">Саймон Франглен</a>, <a class=\"styles_linkDark__7m929 styles_link__3QfAk\" data-tid=\"603f73a4\" href=\"/name/2638091/\">Дилан Коул</a>, <a class=\"styles_linkDark__7m929 styles_link__3QfAk\" data-tid=\"603f73a4\" href=\"/name/1986747/\">Бен Проктер</a>, <a class=\"styles_linkDark__7m929 styles_link__3QfAk\" data-tid=\"603f73a4\" href=\"/name/2008685/\">Роберт Бэвин</a>, <a class=\"styles_linkDark__7m929 styles_link__3QfAk\" href=\"/film/505898/cast/who_is/design/\">...</a>, <a class=\"styles_linkDark__7m929 styles_link__3QfAk\" data-tid=\"603f73a4\" href=\"/name/2004040/\">Дэвид Бреннер</a>, <a class=\"styles_linkDark__7m929 styles_link__3QfAk\" data-tid=\"603f73a4\" href=\"/name/27977/\">Джеймс Кэмерон</a>, <a class=\"styles_linkDark__7m929 styles_link__3QfAk\" data-tid=\"603f73a4\" href=\"/name/1813202/\">Джон Рефуа</a>, <a class=\"styles_linkDark__7m929 styles_link__3QfAk\" href=\"/film/505898/cast/who_is/editor/\">...</a>, <a class=\"styles_linkDark__7m929 styles_link__3QfAk\" href=\"/film/505898/box/\">$350 000 000</a>, <a class=\"styles_linkDark__7m929 styles_link__3QfAk\" href=\"/film/505898/box/\">$620 580 771</a>, <a class=\"styles_linkDark__7m929 styles_link__3QfAk\" href=\"/film/505898/box/\">+ $1 496 000 000 = $2 116 580 771</a>, <a class=\"styles_linkDark__7m929 styles_link__3QfAk\" href=\"/film/505898/box/\">сборы</a>, <a class=\"styles_linkDark__7m929 styles_link__3QfAk\" data-tid=\"603f73a4\" href=\"/film/505898/dates/\">6 декабря 2022</a>, <a class=\"styles_linkDark__7m929 styles_link__3QfAk\" href=\"/film/505898/dates/\">...</a>]\n"
     ]
    }
   ],
   "source": [
    "print(director)"
   ]
  },
  {
   "cell_type": "code",
   "execution_count": 85,
   "id": "98a65cdf",
   "metadata": {},
   "outputs": [],
   "source": [
    "film_description = soup.find('p', class_ = 'styles_paragraph__wEGPz')"
   ]
  },
  {
   "cell_type": "code",
   "execution_count": 57,
   "id": "f3235011",
   "metadata": {},
   "outputs": [
    {
     "name": "stdout",
     "output_type": "stream",
     "text": [
      "После принятия образа аватара солдат Джейк Салли становится предводителем народа на'ви и берет на себя миссию по защите новых друзей от корыстных бизнесменов с Земли. Теперь ему есть за кого бороться — с Джейком его прекрасная возлюбленная Нейтири. Когда на Пандору возвращаются до зубов вооруженные земляне, Джейк готов дать им отпор.\n"
     ]
    }
   ],
   "source": [
    "print(film_description.text)"
   ]
  },
  {
   "cell_type": "code",
   "execution_count": 79,
   "id": "174eea88",
   "metadata": {},
   "outputs": [
    {
     "name": "stdout",
     "output_type": "stream",
     "text": [
      "['После', 'Джейк', 'Салли', 'Земли', 'Теперь', 'Джейком', 'Нейтири', 'Когда', 'Пандору', 'Джейк']\n"
     ]
    }
   ],
   "source": [
    "print(re.findall(r'[А-ЯЁ][а-яё]+', film_description.text))"
   ]
  },
  {
   "cell_type": "code",
   "execution_count": 86,
   "id": "7c501735",
   "metadata": {},
   "outputs": [],
   "source": [
    "actors_list = soup.find_all('li', class_ = 'styles_root__vKDSE styles_rootInLight__EFZzH')"
   ]
  },
  {
   "cell_type": "code",
   "execution_count": 87,
   "id": "6dd9095a",
   "metadata": {},
   "outputs": [
    {
     "data": {
      "text/plain": [
       "15"
      ]
     },
     "execution_count": 87,
     "metadata": {},
     "output_type": "execute_result"
    }
   ],
   "source": [
    "len(actors_list)"
   ]
  },
  {
   "cell_type": "code",
   "execution_count": 88,
   "id": "26a0e038",
   "metadata": {},
   "outputs": [
    {
     "name": "stdout",
     "output_type": "stream",
     "text": [
      "Сэм Уортингтон\n",
      "Зои Салдана\n",
      "Сигурни Уивер\n",
      "Стивен Лэнг\n",
      "Кейт Уинслет\n",
      "Клифф Кёртис\n",
      "Джоэль Мур\n",
      "Си Си Эйч Паундер\n",
      "Иди Фалько\n",
      "Брендан Коуэлл\n",
      "Александр Ноткин\n",
      "Виктория Павленко\n",
      "Карина Кудекова\n",
      "Денис Анников\n",
      "Ольга Бобрик\n"
     ]
    }
   ],
   "source": [
    "for i in actors_list:\n",
    "    print(i.text)"
   ]
  },
  {
   "cell_type": "code",
   "execution_count": 89,
   "id": "e055da0a",
   "metadata": {},
   "outputs": [],
   "source": [
    "tags_a = soup.find_all('a')"
   ]
  },
  {
   "cell_type": "code",
   "execution_count": 90,
   "id": "f7efad52",
   "metadata": {},
   "outputs": [
    {
     "name": "stdout",
     "output_type": "stream",
     "text": [
      "99\n"
     ]
    }
   ],
   "source": [
    "print(len(tags_a))"
   ]
  },
  {
   "cell_type": "code",
   "execution_count": 91,
   "id": "bfe2a411",
   "metadata": {},
   "outputs": [
    {
     "name": "stdout",
     "output_type": "stream",
     "text": [
      "/\n",
      "https://hd.kinopoisk.ru/\n",
      "/lists/categories/movies/1/\n",
      "/lists/categories/movies/3/\n",
      "/afisha/new/\n",
      "/media/\n",
      "/\n",
      "https://hd.kinopoisk.ru/\n",
      "https://www.kinopoisk.ru/special/smarttv_instruction?utm_source=kinopoisk&utm_medium=selfpromo_kp&utm_campaign=button_header\n",
      "/s/\n",
      "https://hd.kinopoisk.ru/?source=kinopoisk_head_button\n",
      "/film/505898/posters/\n",
      "/film/505898/video/184911/\n",
      "/lists/movies/year--2022/?b=films&b=top\n",
      "/lists/movies/country--1/?b=films&b=top\n",
      "/lists/movies/genre--sci-fi/?b=films&b=top\n",
      "/lists/movies/genre--fantasy/?b=films&b=top\n",
      "/lists/movies/genre--action/?b=films&b=top\n",
      "/lists/movies/genre--adventure/?b=films&b=top\n",
      "/film/505898/keywords/\n",
      "/name/27977/\n",
      "/name/27977/\n",
      "/name/79192/\n",
      "/name/79193/\n",
      "/film/505898/cast/who_is/writer/\n",
      "/name/27977/\n",
      "/name/37064/\n",
      "/name/2033201/\n",
      "/film/505898/cast/who_is/producer/\n",
      "/name/408797/\n",
      "/name/1345620/\n",
      "/name/2638091/\n",
      "/name/1986747/\n",
      "/name/2008685/\n",
      "/film/505898/cast/who_is/design/\n",
      "/name/2004040/\n",
      "/name/27977/\n",
      "/name/1813202/\n",
      "/film/505898/cast/who_is/editor/\n",
      "/film/505898/box/\n",
      "/film/505898/box/\n",
      "/film/505898/box/\n",
      "/film/505898/box/\n",
      "/film/505898/dates/\n",
      "/film/505898/dates/\n",
      "/film/505898/rn/PG-13/\n",
      "/film/505898/cast/\n",
      "/name/17733/\n",
      "/name/10661/\n",
      "/name/6915/\n",
      "/name/2807/\n",
      "/name/21709/\n",
      "/name/21040/\n",
      "/name/89156/\n",
      "/name/23654/\n",
      "/name/12194/\n",
      "/name/18505/\n",
      "/film/505898/cast/\n",
      "/film/505898/cast/who_is/voice/\n",
      "/name/1802389/\n",
      "/name/7042340/\n",
      "/name/6759513/\n",
      "/name/6344920/\n",
      "/name/4770440/\n",
      "/film/505898/cast/who_is/voice/\n",
      "/film/505898/awards/\n",
      "/film/505898/awards/\n",
      "/film/505898/awards/\n",
      "/film/505898/awards/\n",
      "/film/505898/awards/\n",
      "/film/505898/dates/\n",
      "/film/505898/stills/\n",
      "/film/505898/video/\n",
      "/film/505898/studio/\n",
      "/film/505898/other/\n",
      "/film/505898/reviews/\n",
      "/film/505898/sites/\n",
      "/film/505898/tracks/\n",
      "/film/505898/subscribe/\n",
      "/film/505898/votes/\n",
      "https://vk.com/kinopoisk\n",
      "https://twitter.com/kinopoiskru\n",
      "https://telegram.me/kinopoisk\n",
      "https://www.youtube.com/user/kinopoisk\n",
      "https://yandex.ru/jobs/vacancies?services=kinopoisk\n",
      "https://yandex.ru/adv/products/display/kinopoiskmedia\n",
      "/docs/usage/\n",
      "https://yandex.ru/support/kinopoisk/index.html\n",
      "/media/rubric/19/\n",
      "https://kinopoisk.userecho.com/\n",
      "https://10267.redirect.appmetrica.yandex.com/mainView?appmetrica_tracking_id=170895231946863928\n",
      "https://10267.redirect.appmetrica.yandex.com/?appmetrica_tracking_id=603240792315703184\n",
      "https://10267.redirect.appmetrica.yandex.com/?appmetrica_tracking_id=1179706852124993595\n",
      "https://www.kinopoisk.ru/\n",
      "https://tv.yandex.ru\n",
      "https://music.yandex.ru\n",
      "https://afisha.yandex.ru\n",
      "https://bookmate.ru\n",
      "https://yandex.ru/all\n"
     ]
    }
   ],
   "source": [
    "for i in tags_a:\n",
    "    item_url = i.get('href')\n",
    "    print(item_url)"
   ]
  }
 ],
 "metadata": {
  "kernelspec": {
   "display_name": "Python 3 (ipykernel)",
   "language": "python",
   "name": "python3"
  },
  "language_info": {
   "codemirror_mode": {
    "name": "ipython",
    "version": 3
   },
   "file_extension": ".py",
   "mimetype": "text/x-python",
   "name": "python",
   "nbconvert_exporter": "python",
   "pygments_lexer": "ipython3",
   "version": "3.10.12"
  }
 },
 "nbformat": 4,
 "nbformat_minor": 5
}
