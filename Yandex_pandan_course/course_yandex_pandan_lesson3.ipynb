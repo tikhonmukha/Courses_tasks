{
 "cells": [
  {
   "cell_type": "code",
   "execution_count": 1,
   "id": "6229e508",
   "metadata": {},
   "outputs": [],
   "source": [
    "import pandas as pd"
   ]
  },
  {
   "cell_type": "code",
   "execution_count": 13,
   "id": "969f6265",
   "metadata": {},
   "outputs": [],
   "source": [
    "from scipy.stats import levene"
   ]
  },
  {
   "cell_type": "code",
   "execution_count": 2,
   "id": "a6100161",
   "metadata": {},
   "outputs": [],
   "source": [
    "df = pd.read_csv('books_prep.csv')"
   ]
  },
  {
   "cell_type": "code",
   "execution_count": 13,
   "id": "80db7e1c",
   "metadata": {},
   "outputs": [
    {
     "data": {
      "text/html": [
       "<div>\n",
       "<style scoped>\n",
       "    .dataframe tbody tr th:only-of-type {\n",
       "        vertical-align: middle;\n",
       "    }\n",
       "\n",
       "    .dataframe tbody tr th {\n",
       "        vertical-align: top;\n",
       "    }\n",
       "\n",
       "    .dataframe thead th {\n",
       "        text-align: right;\n",
       "    }\n",
       "</style>\n",
       "<table border=\"1\" class=\"dataframe\">\n",
       "  <thead>\n",
       "    <tr style=\"text-align: right;\">\n",
       "      <th></th>\n",
       "      <th>Name</th>\n",
       "      <th>Author</th>\n",
       "      <th>User Rating</th>\n",
       "      <th>Reviews</th>\n",
       "      <th>Price</th>\n",
       "      <th>Year</th>\n",
       "      <th>Genre</th>\n",
       "      <th>User Rating (Round)</th>\n",
       "      <th>Price (Above Average)</th>\n",
       "    </tr>\n",
       "  </thead>\n",
       "  <tbody>\n",
       "    <tr>\n",
       "      <th>0</th>\n",
       "      <td>10-Day Green Smoothie Cleanse</td>\n",
       "      <td>JJ Smith</td>\n",
       "      <td>4.7</td>\n",
       "      <td>17350</td>\n",
       "      <td>8</td>\n",
       "      <td>2016</td>\n",
       "      <td>Non Fiction</td>\n",
       "      <td>5</td>\n",
       "      <td>No</td>\n",
       "    </tr>\n",
       "    <tr>\n",
       "      <th>1</th>\n",
       "      <td>11/22/63: A Novel</td>\n",
       "      <td>Stephen King</td>\n",
       "      <td>4.6</td>\n",
       "      <td>2052</td>\n",
       "      <td>22</td>\n",
       "      <td>2011</td>\n",
       "      <td>Fiction</td>\n",
       "      <td>5</td>\n",
       "      <td>Yes</td>\n",
       "    </tr>\n",
       "    <tr>\n",
       "      <th>2</th>\n",
       "      <td>12 Rules for Life: An Antidote to Chaos</td>\n",
       "      <td>Jordan B. Peterson</td>\n",
       "      <td>4.7</td>\n",
       "      <td>18979</td>\n",
       "      <td>15</td>\n",
       "      <td>2018</td>\n",
       "      <td>Non Fiction</td>\n",
       "      <td>5</td>\n",
       "      <td>Yes</td>\n",
       "    </tr>\n",
       "    <tr>\n",
       "      <th>3</th>\n",
       "      <td>1984 (Signet Classics)</td>\n",
       "      <td>George Orwell</td>\n",
       "      <td>4.7</td>\n",
       "      <td>21424</td>\n",
       "      <td>6</td>\n",
       "      <td>2017</td>\n",
       "      <td>Fiction</td>\n",
       "      <td>5</td>\n",
       "      <td>No</td>\n",
       "    </tr>\n",
       "    <tr>\n",
       "      <th>4</th>\n",
       "      <td>5,000 Awesome Facts (About Everything!) (Natio...</td>\n",
       "      <td>National Geographic Kids</td>\n",
       "      <td>4.8</td>\n",
       "      <td>7665</td>\n",
       "      <td>12</td>\n",
       "      <td>2019</td>\n",
       "      <td>Non Fiction</td>\n",
       "      <td>5</td>\n",
       "      <td>No</td>\n",
       "    </tr>\n",
       "  </tbody>\n",
       "</table>\n",
       "</div>"
      ],
      "text/plain": [
       "                                                Name  \\\n",
       "0                      10-Day Green Smoothie Cleanse   \n",
       "1                                  11/22/63: A Novel   \n",
       "2            12 Rules for Life: An Antidote to Chaos   \n",
       "3                             1984 (Signet Classics)   \n",
       "4  5,000 Awesome Facts (About Everything!) (Natio...   \n",
       "\n",
       "                     Author  User Rating  Reviews  Price  Year        Genre  \\\n",
       "0                  JJ Smith          4.7    17350      8  2016  Non Fiction   \n",
       "1              Stephen King          4.6     2052     22  2011      Fiction   \n",
       "2        Jordan B. Peterson          4.7    18979     15  2018  Non Fiction   \n",
       "3             George Orwell          4.7    21424      6  2017      Fiction   \n",
       "4  National Geographic Kids          4.8     7665     12  2019  Non Fiction   \n",
       "\n",
       "   User Rating (Round) Price (Above Average)  \n",
       "0                    5                    No  \n",
       "1                    5                   Yes  \n",
       "2                    5                   Yes  \n",
       "3                    5                    No  \n",
       "4                    5                    No  "
      ]
     },
     "execution_count": 13,
     "metadata": {},
     "output_type": "execute_result"
    }
   ],
   "source": [
    "df.head()"
   ]
  },
  {
   "cell_type": "code",
   "execution_count": 18,
   "id": "1b51faf9",
   "metadata": {},
   "outputs": [
    {
     "name": "stdout",
     "output_type": "stream",
     "text": [
      "JJ Smith\n"
     ]
    }
   ],
   "source": [
    "print(df.sort_values('User Rating',ascending=False)['Author'].loc[0])"
   ]
  },
  {
   "cell_type": "code",
   "execution_count": 40,
   "id": "f63fe857",
   "metadata": {},
   "outputs": [
    {
     "name": "stdout",
     "output_type": "stream",
     "text": [
      "4.560103626943005\n"
     ]
    }
   ],
   "source": [
    "print(df.loc[df['Price (Above Average)']=='Yes']['User Rating'].mean())"
   ]
  },
  {
   "cell_type": "code",
   "execution_count": 7,
   "id": "115a1637",
   "metadata": {},
   "outputs": [
    {
     "name": "stdout",
     "output_type": "stream",
     "text": [
      "4.649859943977591\n"
     ]
    }
   ],
   "source": [
    "print(df.loc[df['Price (Above Average)']=='No']['User Rating'].mean())"
   ]
  },
  {
   "cell_type": "code",
   "execution_count": 20,
   "id": "f346dbcb",
   "metadata": {},
   "outputs": [],
   "source": [
    "user_rating_cheap = df[df['Price (Above Average)'] == \"No\"]['User Rating']"
   ]
  },
  {
   "cell_type": "code",
   "execution_count": 21,
   "id": "fee7ab4f",
   "metadata": {},
   "outputs": [],
   "source": [
    "user_rating_expensive = df[df['Price (Above Average)'] == \"Yes\"]['User Rating']"
   ]
  },
  {
   "cell_type": "code",
   "execution_count": 22,
   "id": "f0476ff8",
   "metadata": {},
   "outputs": [
    {
     "name": "stdout",
     "output_type": "stream",
     "text": [
      "0.10402083833234736\n"
     ]
    }
   ],
   "source": [
    "print(levene(user_rating_cheap, user_rating_expensive).pvalue)"
   ]
  },
  {
   "cell_type": "code",
   "execution_count": 18,
   "id": "5020148b",
   "metadata": {},
   "outputs": [],
   "source": [
    "from scipy.stats import ttest_ind"
   ]
  },
  {
   "cell_type": "code",
   "execution_count": 23,
   "id": "36df2e9d",
   "metadata": {},
   "outputs": [
    {
     "name": "stdout",
     "output_type": "stream",
     "text": [
      "8.190934970309897e-06\n"
     ]
    }
   ],
   "source": [
    "print(ttest_ind(user_rating_cheap, user_rating_expensive).pvalue)"
   ]
  },
  {
   "cell_type": "code",
   "execution_count": 24,
   "id": "b96f3dc3",
   "metadata": {},
   "outputs": [],
   "source": [
    "from scipy.stats import f_oneway"
   ]
  },
  {
   "cell_type": "code",
   "execution_count": 25,
   "id": "07ee8955",
   "metadata": {},
   "outputs": [],
   "source": [
    "ur_5 = df[(df['User Rating (Round)'] == 5)]['Reviews']"
   ]
  },
  {
   "cell_type": "code",
   "execution_count": 26,
   "id": "9894ea73",
   "metadata": {},
   "outputs": [],
   "source": [
    "ur_4 = df[(df['User Rating (Round)'] == 4)]['Reviews']"
   ]
  },
  {
   "cell_type": "code",
   "execution_count": 27,
   "id": "62a4aa38",
   "metadata": {},
   "outputs": [],
   "source": [
    "ur_3 = df[(df['User Rating (Round)'] == 3)]['Reviews']"
   ]
  },
  {
   "cell_type": "code",
   "execution_count": 28,
   "id": "b0e98e02",
   "metadata": {},
   "outputs": [
    {
     "name": "stdout",
     "output_type": "stream",
     "text": [
      "0.2973862975123414\n"
     ]
    }
   ],
   "source": [
    "print(f_oneway(ur_5, ur_4, ur_3).pvalue)"
   ]
  },
  {
   "cell_type": "code",
   "execution_count": 16,
   "id": "53b84cea",
   "metadata": {},
   "outputs": [
    {
     "name": "stdout",
     "output_type": "stream",
     "text": [
      "Jeff Kinney\n"
     ]
    }
   ],
   "source": [
    "print(df['Author'].describe()['top'])"
   ]
  }
 ],
 "metadata": {
  "kernelspec": {
   "display_name": "Python 3 (ipykernel)",
   "language": "python",
   "name": "python3"
  },
  "language_info": {
   "codemirror_mode": {
    "name": "ipython",
    "version": 3
   },
   "file_extension": ".py",
   "mimetype": "text/x-python",
   "name": "python",
   "nbconvert_exporter": "python",
   "pygments_lexer": "ipython3",
   "version": "3.10.12"
  }
 },
 "nbformat": 4,
 "nbformat_minor": 5
}
